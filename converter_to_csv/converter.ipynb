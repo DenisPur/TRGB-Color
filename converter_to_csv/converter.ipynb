{
 "cells": [
  {
   "cell_type": "code",
   "execution_count": 1,
   "metadata": {},
   "outputs": [],
   "source": [
    "from pathlib import Path\n",
    "import pandas as pd\n",
    "import numpy as np\n",
    "\n",
    "from os import listdir\n",
    "import os\n",
    "\n",
    "import matplotlib.pyplot as plt\n",
    "import seaborn as sns\n",
    "\n",
    "from readers import *"
   ]
  },
  {
   "cell_type": "code",
   "execution_count": 2,
   "metadata": {},
   "outputs": [],
   "source": [
    "edd = pd.read_csv('edd_table.csv')\n",
    "input_folder = Path('raw')\n",
    "\n",
    "list_of_files = [filename for filename in listdir(input_folder)]\n",
    "\n",
    "index = -1"
   ]
  },
  {
   "cell_type": "markdown",
   "metadata": {},
   "source": [
    "---"
   ]
  },
  {
   "cell_type": "code",
   "execution_count": 3,
   "metadata": {},
   "outputs": [],
   "source": [
    "if index < len(list_of_files) - 1:\n",
    "    index += 1"
   ]
  },
  {
   "cell_type": "code",
   "execution_count": null,
   "metadata": {},
   "outputs": [],
   "source": [
    "filename = input_folder / Path(list_of_files[index])\n",
    "print('#', index, ' : ', filename)"
   ]
  },
  {
   "cell_type": "code",
   "execution_count": null,
   "metadata": {},
   "outputs": [],
   "source": [
    "galaxy_name = str(filename).split('/')[-1].split('.')[0]\n",
    "pgc = edd[edd['name']==galaxy_name]['pgc'].values[0]\n",
    "print(edd[edd['name']==galaxy_name], '\\n--------------------')\n",
    "# pgc = 0 # input manually\n",
    "\n",
    "print('pgc', pgc, '(', galaxy_name, ')')"
   ]
  },
  {
   "cell_type": "code",
   "execution_count": null,
   "metadata": {},
   "outputs": [],
   "source": [
    "define_type(filename)"
   ]
  },
  {
   "cell_type": "code",
   "execution_count": null,
   "metadata": {},
   "outputs": [],
   "source": [
    "data = read_type6(filename)\n",
    "data"
   ]
  },
  {
   "cell_type": "code",
   "execution_count": 120,
   "metadata": {},
   "outputs": [],
   "source": [
    "data = synch_coordinates_acs(data)\n",
    "# data = synch_coordinates_wfcs(data)"
   ]
  },
  {
   "cell_type": "code",
   "execution_count": null,
   "metadata": {},
   "outputs": [],
   "source": [
    "fig, axs = plt.subplots(1, 2, figsize=[12, 6])\n",
    "sns.scatterplot(data=data, s=1, x='x', y='y', ax=axs[0])\n",
    "\n",
    "color = (data['mag_v'] - data['mag_i'])\n",
    "mag = data['mag_i']\n",
    "axs[1].scatter(color, mag, s=0.2)\n",
    "axs[1].invert_yaxis()\n",
    "\n",
    "plt.show()"
   ]
  },
  {
   "cell_type": "code",
   "execution_count": 122,
   "metadata": {},
   "outputs": [],
   "source": [
    "data.to_csv('./converted/' + str(pgc) + '.csv', index=None)\n",
    "# data.to_csv('./converted/' + galaxy_name + '.csv', index=None)"
   ]
  }
 ],
 "metadata": {
  "kernelspec": {
   "display_name": "trgb_gui",
   "language": "python",
   "name": "python3"
  },
  "language_info": {
   "codemirror_mode": {
    "name": "ipython",
    "version": 3
   },
   "file_extension": ".py",
   "mimetype": "text/x-python",
   "name": "python",
   "nbconvert_exporter": "python",
   "pygments_lexer": "ipython3",
   "version": "3.11.5"
  }
 },
 "nbformat": 4,
 "nbformat_minor": 2
}
